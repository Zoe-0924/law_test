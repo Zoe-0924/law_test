{
 "cells": [
  {
   "cell_type": "code",
   "execution_count": 6,
   "metadata": {},
   "outputs": [],
   "source": [
    "# 憲法條文資料 (範例)\n",
    "constitution = {\n",
    "    1: \"中華民國基於三民主義，為民有、民治、民享之民主共和國。\",\n",
    "    2: \"中華民國之主權屬於國民全體。\",\n",
    "    3: \"有依法律規定年滿二十歲之國民，不分性別，具有選舉權。\",\n",
    "    4: \"中華民國領土，依其固有疆域，非經國民大會之決議，不得變更之。\",\n",
    "}"
   ]
  },
  {
   "cell_type": "code",
   "execution_count": 3,
   "metadata": {},
   "outputs": [],
   "source": [
    "def search_specific_law(num):\n",
    "    try:\n",
    "        if num in constitution:\n",
    "            print(f\"第{num}條: {constitution[num]}\")\n",
    "        else:\n",
    "            print(\"查無此條文!\")\n",
    "    except ValueError:\n",
    "        print(\"請輸入有效的數字!\")"
   ]
  },
  {
   "cell_type": "code",
   "execution_count": 4,
   "metadata": {},
   "outputs": [],
   "source": [
    "def search_by_keyword(keyword):\n",
    "    results = [f\"第{key}條: {value}\" for key, value in constitution.items() if keyword in value]\n",
    "    if results:\n",
    "        print(\"\\n搜尋結果:\")\n",
    "        for result in results:\n",
    "            print(result)\n",
    "    else:\n",
    "        print(\"查無相關條文!\")"
   ]
  },
  {
   "cell_type": "code",
   "execution_count": 5,
   "metadata": {},
   "outputs": [],
   "source": [
    "def print_all_law():\n",
    "    print(\"\\n憲法條文:\")\n",
    "    for key, value in constitution.items():\n",
    "        print(f\"第{key}條: {value}\")"
   ]
  },
  {
   "cell_type": "code",
   "execution_count": null,
   "metadata": {},
   "outputs": [],
   "source": []
  }
 ],
 "metadata": {
  "kernelspec": {
   "display_name": "base",
   "language": "python",
   "name": "python3"
  },
  "language_info": {
   "codemirror_mode": {
    "name": "ipython",
    "version": 3
   },
   "file_extension": ".py",
   "mimetype": "text/x-python",
   "name": "python",
   "nbconvert_exporter": "python",
   "pygments_lexer": "ipython3",
   "version": "3.12.4"
  }
 },
 "nbformat": 4,
 "nbformat_minor": 2
}
